{
 "cells": [
  {
   "cell_type": "code",
   "execution_count": 1,
   "metadata": {},
   "outputs": [
    {
     "name": "stderr",
     "output_type": "stream",
     "text": [
      "/home/ichien3/Sandbox/Perceptrons.py:42: RuntimeWarning: invalid value encountered in true_divide\n",
      "  return 2/np.sqrt(c)/lbda*np.arctanh(np.sqrt(c)*np.sqrt(np.dot(temp,temp)))*temp/np.sqrt(np.dot(temp,temp))\n"
     ]
    },
    {
     "name": "stdout",
     "output_type": "stream",
     "text": [
      "100.0\n",
      "[-0.99992141 -0.0125371 ]\n"
     ]
    },
    {
     "data": {
      "application/vnd.jupyter.widget-view+json": {
       "model_id": "df786b9d1a974224987944b89eb22fa6",
       "version_major": 2,
       "version_minor": 0
      },
      "text/plain": [
       "Canvas(toolbar=Toolbar(toolitems=[('Home', 'Reset original view', 'home', 'home'), ('Back', 'Back to previous …"
      ]
     },
     "metadata": {},
     "output_type": "display_data"
    },
    {
     "name": "stderr",
     "output_type": "stream",
     "text": [
      "/home/ichien3/Sandbox/Perceptrons.py:33: RuntimeWarning: invalid value encountered in true_divide\n",
      "  temp = np.tanh(np.sqrt(c)*lbda*np.sqrt(np.dot(v,v))/2)*v/np.sqrt(c)/np.sqrt(np.dot(v,v))\n",
      "/home/ichien3/Sandbox/Perceptrons.py:33: RuntimeWarning: invalid value encountered in true_divide\n",
      "  temp = np.tanh(np.sqrt(c)*lbda*np.sqrt(np.dot(v,v))/2)*v/np.sqrt(c)/np.sqrt(np.dot(v,v))\n"
     ]
    }
   ],
   "source": [
    "%matplotlib widget\n",
    "\n",
    "import numpy as np\n",
    "import matplotlib.pyplot as plt\n",
    "from Perceptrons import *\n",
    "\n",
    "\"\"\"\n",
    "This notebook gives an simple example of running our hyperbolic perceptrons on sythetic data.\n",
    "Visialization included.\n",
    "\"\"\"\n",
    "\n",
    "# Number of points\n",
    "N = 1000 \n",
    "# Number of dimension. In this experiment we restrict it to be 2 for visualization and Graham scan algorithm.\n",
    "d = 2\n",
    "# Upper bound of the data point norm (maximum radius).\n",
    "R = 0.95\n",
    "# Margin\n",
    "gamma = 0.1\n",
    "\n",
    "Flag = False\n",
    "while not Flag:\n",
    "    # Generating points uniformly on Poincare ball.\n",
    "    # Can set the reference point p that the ground truth classifier pass through.\n",
    "    N,X,y,w,p = Poincare_Uniform_Data(N,d,gamma,R = R, p = None)\n",
    "\n",
    "    # This ensures that resulting label is not too unbalanced (5% at least). Can be modified or removed if desired.\n",
    "    if (len(y[y==1])>0.05*N) and (len(y[y==-1])>0.05*N):\n",
    "        Flag = True\n",
    "\n",
    "# Estimate the reference point by our proposed heuristic algorithm.\n",
    "# Here the ConvexHull correspond to Graham scan algorithm. Can change to QuickHull if desired.\n",
    "# If you want d to be larger than 2, you can either generalize our QuickHull algorithm to higher dimension or directly find the minimum distance pair of +1 and -1 points.\n",
    "# However, this is of higher time complexity.\n",
    "CH1 = ConvexHull(X[:,y==1])\n",
    "CH2 = ConvexHull(X[:,y==-1])\n",
    "MDpair = minDpair(CH1,CH2)\n",
    "p_hat = Weightedmidpt(MDpair[:,0],MDpair[:,1],0.5)\n",
    "\n",
    "# Running our Hyperbolic perceptron.\n",
    "# Can change option = 'second' for second order version.\n",
    "# Can replace HP with WeberHP for perceptron in Weber et al. 2020.\n",
    "# Can replace HP with EP for Euclidean perceptron.\n",
    "w1,_ = HP(X,y,p_hat,gamma,R,a=None,option='first')\n",
    "# Evaluation\n",
    "acc,_ = Eval(X=X,y=y,p=p_hat,w1 = w1)\n",
    "print(acc)\n",
    "print(w1)\n",
    "\n",
    "# Visualization\n",
    "v = [-w1[1],w1[0]]\n",
    "fig = plt.figure(figsize=(4,4)) \n",
    "plt.scatter(X[0,y==-1],X[1,y==-1],c='g')\n",
    "plt.scatter(X[0,y==1],X[1,y==1],c='b')\n",
    "plotgeodesic(p_hat,v=v,option='pv_line')"
   ]
  },
  {
   "cell_type": "code",
   "execution_count": null,
   "metadata": {},
   "outputs": [],
   "source": []
  }
 ],
 "metadata": {
  "kernelspec": {
   "display_name": "Python 3",
   "language": "python",
   "name": "python3"
  },
  "language_info": {
   "codemirror_mode": {
    "name": "ipython",
    "version": 3
   },
   "file_extension": ".py",
   "mimetype": "text/x-python",
   "name": "python",
   "nbconvert_exporter": "python",
   "pygments_lexer": "ipython3",
   "version": "3.7.4"
  }
 },
 "nbformat": 4,
 "nbformat_minor": 4
}
